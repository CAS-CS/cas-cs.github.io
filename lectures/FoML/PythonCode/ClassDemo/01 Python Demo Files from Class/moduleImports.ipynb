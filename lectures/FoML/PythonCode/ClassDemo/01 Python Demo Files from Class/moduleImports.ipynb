{
 "cells": [
  {
   "cell_type": "code",
   "execution_count": 3,
   "id": "3e4bbffb-c88a-4e01-9c70-fcfd2b337f34",
   "metadata": {},
   "outputs": [],
   "source": [
    "%%capture output\n",
    "\n",
    "!pip install numpy matplotlib pandas "
   ]
  },
  {
   "cell_type": "code",
   "execution_count": 11,
   "id": "2dd7c6f6-7642-49f6-ba9b-76acdaf14c0b",
   "metadata": {},
   "outputs": [],
   "source": [
    "import numpy as np\n",
    "\n",
    "import numpy.random as random\n",
    "\n",
    "\n",
    "from matplotlib import pyplot  as plt"
   ]
  },
  {
   "cell_type": "code",
   "execution_count": 12,
   "id": "555a5e4f-bcde-4786-ab69-8513db8a6499",
   "metadata": {},
   "outputs": [
    {
     "data": {
      "text/plain": [
       "(array([0.00529138]), 0)"
      ]
     },
     "execution_count": 12,
     "metadata": {},
     "output_type": "execute_result"
    }
   ],
   "source": [
    "random.rand(1),random.randint(1)"
   ]
  }
 ],
 "metadata": {
  "kernelspec": {
   "display_name": "Python 3 (ipykernel)",
   "language": "python",
   "name": "python3"
  },
  "language_info": {
   "codemirror_mode": {
    "name": "ipython",
    "version": 3
   },
   "file_extension": ".py",
   "mimetype": "text/x-python",
   "name": "python",
   "nbconvert_exporter": "python",
   "pygments_lexer": "ipython3",
   "version": "3.11.0"
  }
 },
 "nbformat": 4,
 "nbformat_minor": 5
}

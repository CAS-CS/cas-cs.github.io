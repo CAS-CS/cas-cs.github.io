{
 "cells": [
  {
   "cell_type": "code",
   "execution_count": 5,
   "id": "8c2c64cd-2c2e-4bb8-b7ad-e7f69ac89e5a",
   "metadata": {},
   "outputs": [
    {
     "name": "stdout",
     "output_type": "stream",
     "text": [
      " this is some\n",
      "multiline \"quote\" \n"
     ]
    }
   ],
   "source": [
    "a=1\n",
    "a=\"string\"\n",
    "a='str'\n",
    "float=1.0\n",
    "\n",
    "multiline=\"\"\" this is some\n",
    "multiline \"quote\" \"\"\"\n",
    "print(multiline)\n",
    "m=multiline\n",
    "# this is comment\n",
    "\n",
    "\n",
    "\n",
    "\n"
   ]
  },
  {
   "cell_type": "code",
   "execution_count": 15,
   "id": "42d017ef-a00f-4797-9c11-bd11575c7dc9",
   "metadata": {},
   "outputs": [
    {
     "name": "stdout",
     "output_type": "stream",
     "text": [
      "32\n"
     ]
    },
    {
     "data": {
      "text/plain": [
       "'e'"
      ]
     },
     "execution_count": 15,
     "metadata": {},
     "output_type": "execute_result"
    }
   ],
   "source": [
    "length=len(m)\n",
    "print(length)\n",
    "m[31]\n",
    "  \n",
    "m[-3]  "
   ]
  },
  {
   "cell_type": "code",
   "execution_count": 22,
   "id": "d9f9fd8d-05cb-4d4f-b80e-668cd19b309a",
   "metadata": {},
   "outputs": [
    {
     "data": {
      "text/plain": [
       "' this is s'"
      ]
     },
     "execution_count": 22,
     "metadata": {},
     "output_type": "execute_result"
    }
   ],
   "source": [
    "start=0\n",
    "end=10\n",
    "stepsize=1\n",
    "\n",
    "# step_size\n",
    "\n",
    "# stepSize\n",
    "\n",
    "# STEP\n",
    "\n",
    "\n",
    "m[start:end:stepsize]"
   ]
  },
  {
   "cell_type": "code",
   "execution_count": null,
   "id": "ce72ce7e-c7d9-4d03-8766-ad8b0796ae32",
   "metadata": {},
   "outputs": [],
   "source": [
    "# string manipulation"
   ]
  },
  {
   "cell_type": "code",
   "execution_count": 33,
   "id": "7e1f47de-96d9-4dfd-bcc0-d050aa2f0d4b",
   "metadata": {},
   "outputs": [
    {
     "data": {
      "text/plain": [
       "1"
      ]
     },
     "execution_count": 33,
     "metadata": {},
     "output_type": "execute_result"
    }
   ],
   "source": [
    "m.upper()\n",
    "m.lower()\n",
    "m.title()\n",
    "m.find(\"Q\")\n",
    "m[m.find(\"q\")]\n",
    "m.replace('t','T')\n",
    "\n",
    "m.find(\"t\")\n",
    "\n"
   ]
  },
  {
   "cell_type": "code",
   "execution_count": 41,
   "id": "611503c9-0136-4d6a-bb04-bf233823aa0a",
   "metadata": {},
   "outputs": [
    {
     "name": "stdout",
     "output_type": "stream",
     "text": [
      "0\n",
      "1\n",
      "0\n",
      "1\n",
      "1\n",
      "1\n",
      "0\n",
      "0\n",
      "1\n",
      "1\n",
      "0\n"
     ]
    }
   ],
   "source": [
    "# for loop\n",
    "\n",
    "m='01011100110'\n",
    "start=0\n",
    "end=len(m)\n",
    "for i in range(start,end):\n",
    "    print(m[i])\n",
    "    \n",
    "    \n"
   ]
  },
  {
   "cell_type": "code",
   "execution_count": 58,
   "id": "4e8ed3e5-1a37-49d8-b0f3-24f490a262f4",
   "metadata": {},
   "outputs": [
    {
     "name": "stdout",
     "output_type": "stream",
     "text": [
      "[1, 2, 44, '55ssasfsadk']\n"
     ]
    },
    {
     "data": {
      "text/plain": [
       "[8987, 55, 2, 44, '55ssasfsadk', 8987]"
      ]
     },
     "execution_count": 58,
     "metadata": {},
     "output_type": "execute_result"
    }
   ],
   "source": [
    "# list\n",
    "list=[1,2,44,\"55ssasfsadk\"]\n",
    "print(list)\n",
    "list[0:len(list)-2]\n",
    "list[0]=55\n",
    "list.append(8987)\n",
    "list.insert(0,8987)\n",
    "list"
   ]
  },
  {
   "cell_type": "code",
   "execution_count": 65,
   "id": "b9db4ab1-daa0-49fe-9a49-d00621d6f8a5",
   "metadata": {},
   "outputs": [
    {
     "data": {
      "text/plain": [
       "[1, 4, 7, 23, 23, 355, 457, 4134, 4876]"
      ]
     },
     "execution_count": 65,
     "metadata": {},
     "output_type": "execute_result"
    }
   ],
   "source": [
    "l2=[1,4134,355,7,457,4876,23,23,4]\n",
    "l2.sort()\n",
    "l2"
   ]
  },
  {
   "cell_type": "code",
   "execution_count": 67,
   "id": "45b8436b-cb9a-43ca-af26-9da2832bceb6",
   "metadata": {},
   "outputs": [
    {
     "name": "stdout",
     "output_type": "stream",
     "text": [
      "1\n",
      "4\n",
      "7\n",
      "23\n",
      "23\n",
      "355\n",
      "457\n",
      "4134\n",
      "4876\n"
     ]
    }
   ],
   "source": [
    "for i in range(0,len(l2)):\n",
    "    # print(i,l2[i])\n",
    "    print(l2[i])"
   ]
  },
  {
   "cell_type": "code",
   "execution_count": 69,
   "id": "217b282f-3b99-4c72-b1af-b3b28391c9d2",
   "metadata": {},
   "outputs": [
    {
     "name": "stdout",
     "output_type": "stream",
     "text": [
      "asdf\n",
      "2\n",
      "10.3\n"
     ]
    }
   ],
   "source": [
    "l4=['asdf',2,10.3]\n",
    "for i in l4:\n",
    "    # print(i,l2[i])\n",
    "    print(i)\n",
    "    \n",
    "# tuple\n",
    "T=(1,2,4)"
   ]
  },
  {
   "cell_type": "code",
   "execution_count": 71,
   "id": "d8377fe4-c075-4df2-8b43-3a5c2c27d38b",
   "metadata": {},
   "outputs": [
    {
     "name": "stdout",
     "output_type": "stream",
     "text": [
      "{'name': 'actual name', 'roll no': 456}\n"
     ]
    }
   ],
   "source": [
    "# DIctionary //json like\n",
    "\n",
    "dict={\"name\":\"actual name\",\n",
    "     \"roll no\":456,\n",
    "     \"list\":()}\n",
    "print(dict)\n",
    "\n",
    "carA"
   ]
  },
  {
   "cell_type": "code",
   "execution_count": null,
   "id": "86c2b48f-3ee1-4f90-acc7-c0ce6fc388f3",
   "metadata": {},
   "outputs": [],
   "source": [
    "# Functions"
   ]
  },
  {
   "cell_type": "code",
   "execution_count": 89,
   "id": "77c89331-8214-464c-8503-378ea7556a10",
   "metadata": {},
   "outputs": [],
   "source": [
    "# def=definition\n",
    "\n",
    "def average(list):\n",
    "    \n",
    "    print(\"started\")\n",
    "    avg=0\n",
    "    try:\n",
    "        avg=sum(list)/len(list)\n",
    "    except:\n",
    "        print(\"Improper format\")\n",
    "    \n",
    "    \n",
    "    print(\"executed\")\n",
    "    \n",
    "    print(avg)\n",
    "    return avg\n",
    "    \n",
    "    \n",
    "# try:\n"
   ]
  },
  {
   "cell_type": "code",
   "execution_count": 87,
   "id": "eee635ea-9c5b-4ef3-a233-6563f2cbf67e",
   "metadata": {},
   "outputs": [
    {
     "name": "stdout",
     "output_type": "stream",
     "text": [
      "started\n",
      "Improper format\n",
      "executed\n",
      "0\n"
     ]
    }
   ],
   "source": [
    "avg=average([1,2,'5',4])"
   ]
  },
  {
   "cell_type": "code",
   "execution_count": 120,
   "id": "70a08eb2-ad0b-40d8-b37d-75d9b885cfbc",
   "metadata": {},
   "outputs": [],
   "source": [
    "class Point:\n",
    "#     constructor func name is __init__\n",
    "    def __init__(self,x,y,z):\n",
    "        self.x=x\n",
    "        self.y=y\n",
    "        self.z=z\n",
    "        print(self.x,self.y,self.z)\n",
    "        # self.distance()\n",
    "        \n",
    "    def distance(self):\n",
    "        x=self.x\n",
    "        y=self.y\n",
    "        z=self.z\n",
    "        d=(x**2+y**2+z**2)**(1/2)\n",
    "        self.d=d\n",
    "    \n",
    "    def d(self):\n",
    "        x=self.x\n",
    "        y=self.y\n",
    "        z=self.z\n",
    "        d=(x**2+y**2+z**2)**(1/2)\n",
    "        print(d)\n",
    "        return d\n",
    "        "
   ]
  },
  {
   "cell_type": "code",
   "execution_count": 121,
   "id": "7a79ce80-7c4d-49fb-b061-15edd4bed0da",
   "metadata": {},
   "outputs": [
    {
     "name": "stdout",
     "output_type": "stream",
     "text": [
      "1 2 3\n",
      "2 2 3\n"
     ]
    }
   ],
   "source": [
    "P1=Point(1,2,3)\n",
    "\n",
    "P2=Point(2,2,3)\n",
    "# P1.showPoint()"
   ]
  },
  {
   "cell_type": "code",
   "execution_count": 123,
   "id": "aae6b82d-1566-4650-9da3-a3dfc1c41d48",
   "metadata": {},
   "outputs": [
    {
     "name": "stdout",
     "output_type": "stream",
     "text": [
      "<bound method Point.d of <__main__.Point object at 0x0000023875941BD0>>\n"
     ]
    }
   ],
   "source": [
    "# P1.distance()\n",
    "print(P1.d)"
   ]
  }
 ],
 "metadata": {
  "kernelspec": {
   "display_name": "Python 3 (ipykernel)",
   "language": "python",
   "name": "python3"
  },
  "language_info": {
   "codemirror_mode": {
    "name": "ipython",
    "version": 3
   },
   "file_extension": ".py",
   "mimetype": "text/x-python",
   "name": "python",
   "nbconvert_exporter": "python",
   "pygments_lexer": "ipython3",
   "version": "3.11.0"
  }
 },
 "nbformat": 4,
 "nbformat_minor": 5
}

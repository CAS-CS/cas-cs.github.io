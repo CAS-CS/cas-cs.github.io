{
 "cells": [
  {
   "cell_type": "markdown",
   "id": "329926e5-7b5b-46fb-aae3-27736146d620",
   "metadata": {},
   "source": [
    "# Principal Component Analysis\n",
    "Principal Component Analysis is an unsupervised learning algorithm that is used for the dimensionality reduction in machine learning. It is a statistical process that converts the observations of correlated features into a set of linearly uncorrelated features with the help of orthogonal transformation. These new transformed features are called the **Principal Components**. It is one of the popular tools that is used for exploratory data analysis and predictive modeling. It is a technique to draw strong patterns from the given dataset by reducing the variances.\n",
    "\n",
    "PCA generally tries to find the lower-dimensional surface to project the high-dimensional data.\n",
    "\n",
    "PCA works by considering the variance of each attribute because the high attribute shows the good split between the classes, and hence it reduces the dimensionality. Some real-world applications of PCA are **_image processing, movie recommendation system, optimizing the power allocation in various communication channels._** It is a feature extraction technique, so it contains the important variables and drops the least important variable.\n",
    "\n",
    "## The PCA algorithm is based on some mathematical concepts such as:\n",
    "\n",
    "- Variance and Covariance\n",
    "- Eigenvalues and Eigen factors\n",
    "\n",
    "## Some common terms used in PCA algorithm:\n",
    "\n",
    "- **Dimensionality:** It is the number of features or variables present in the given dataset. More easily, it is the number of columns present in the dataset.\n",
    "- **Correlation:** It signifies that how strongly two variables are related to each other. Such as if one changes, the other variable also gets changed. The correlation value ranges from -1 to +1. Here, -1 occurs if variables are inversely proportional to each other, and +1 indicates that variables are directly proportional to each other.\n",
    "- **Orthogonal:** It defines that variables are not correlated to each other, and hence the correlation between the pair of variables is zero.\n",
    "- **Eigenvectors:** If there is a square matrix M, and a non-zero vector v is given. Then v will be eigenvector if Av is the scalar multiple of v.\n",
    "- **Covariance Matrix:** A matrix containing the covariance between the pair of variables is called the Covariance Matrix."
   ]
  },
  {
   "cell_type": "markdown",
   "id": "789446e4-597b-4f4a-958a-c8e7e35f4872",
   "metadata": {},
   "source": [
    "## Principal Components in PCA\n",
    "\n",
    "The output of PCA are the Principal Components. The number of these PCs are either equal to or less than the original features present in the dataset. Some properties of these principal components are given below:\n",
    "\n",
    "- The principal component must be the linear combination of the original features.\n",
    "- These components are orthogonal, i.e., the correlation between a pair of variables is zero.\n",
    "- The importance of each component decreases when going to 1 to n, it means the 1 PC has the most importance, and n PC will have the least importance."
   ]
  },
  {
   "attachments": {},
   "cell_type": "markdown",
   "id": "98d385f3-959d-4176-a18a-8d503b6f4a5c",
   "metadata": {},
   "source": [
    "## Steps for PCA algorithm\n",
    "\n",
    "1. **Getting the dataset**  \n",
    "  Firstly, we need to take the input dataset and divide it into two subparts X and Y, where X is the training set, and Y is the validation set.\n",
    "\n",
    "2. **Representing data into a structure**  \n",
    "  Now we will represent our dataset into a structure. Such as we will represent the two-dimensional matrix of independent variable X. Here each row corresponds to the data items, and the column corresponds to the Features. The number of columns is the dimensions of the dataset.\n",
    "\n",
    "3. **Standardizing the data**  \n",
    "  In this step, we will standardize our dataset. Such as in a particular column, the features with high variance are more important compared to the features with lower variance.  \n",
    "  If the importance of features is independent of the variance of the feature, then we will divide each data item in a column with the standard deviation of the column. Here we will name the matrix as Z.\n",
    "\n",
    "4. **Calculating the Covariance of Z**  \n",
    "  To calculate the covariance of Z, we will take the matrix Z, and will transpose it. After transpose, we will multiply it by Z. The output matrix will be the Covariance matrix of Z.\n",
    "\n",
    "5. **Calculating the Eigen Values and Eigen Vectors**  \n",
    "  Now we need to calculate the eigenvalues and eigenvectors for the resultant covariance matrix Z. Eigenvectors or the covariance matrix are the directions of the axes with high information. And the coefficients of these eigenvectors are defined as the eigenvalues.\n",
    "\n",
    "6. **Sorting the Eigen Vectors**  \n",
    "  In this step, we will take all the eigenvalues and will sort them in decreasing order, which means from largest to smallest. And simultaneously sort the eigenvectors accordingly in matrix P of eigenvalues. The resultant matrix will be named as P\\*.\n",
    "  \n",
    "7. **Calculating the new features Or Principal Components**  \n",
    "  Here we will calculate the new features. To do this, we will multiply the P\\* matrix to the Z. In the resultant matrix Z\\*, each observation is the linear combination of original features. Each column of the Z\\* matrix is independent of each other.\n",
    "  \n",
    "8. **Remove less or unimportant features from the new dataset.**  \n",
    "  The new feature set has occurred, so we will decide here what to keep and what to remove. It means, we will only keep the relevant or important features in the new dataset, and unimportant features will be removed out.\n",
    "\n",
    "Applications of Principal Component Analysis\n",
    "\n",
    "- PCA is mainly used as the dimensionality reduction technique in various AI applications such **as computer vision, image compression, etc.**\n",
    "- It can also be used for finding hidden patterns if data has high dimensions. Some fields where PCA is used are Finance, data mining, Psychology, etc."
   ]
  },
  {
   "cell_type": "markdown",
   "id": "8ab4d135-94a2-478b-a12b-70cb05fc87bf",
   "metadata": {},
   "source": [
    "# Program\n",
    "### basic imports"
   ]
  },
  {
   "cell_type": "code",
   "execution_count": 3,
   "id": "68d34077-fa50-4e48-a8e9-a5ef1034bed6",
   "metadata": {},
   "outputs": [],
   "source": [
    "import numpy as np\n",
    "import pandas as pd\n",
    "import matplotlib.pyplot as plt\n",
    "from random import randint,random,randrange\n"
   ]
  },
  {
   "cell_type": "markdown",
   "id": "d98c8d35-2dd9-4d2c-a0a7-bf1488797c31",
   "metadata": {},
   "source": [
    "### Generate Data points with some correlation"
   ]
  },
  {
   "cell_type": "code",
   "execution_count": 4,
   "id": "b10fbb32-e344-4bd3-913a-2b259bad430b",
   "metadata": {},
   "outputs": [
    {
     "data": {
      "text/html": [
       "<div>\n",
       "<style scoped>\n",
       "    .dataframe tbody tr th:only-of-type {\n",
       "        vertical-align: middle;\n",
       "    }\n",
       "\n",
       "    .dataframe tbody tr th {\n",
       "        vertical-align: top;\n",
       "    }\n",
       "\n",
       "    .dataframe thead th {\n",
       "        text-align: right;\n",
       "    }\n",
       "</style>\n",
       "<table border=\"1\" class=\"dataframe\">\n",
       "  <thead>\n",
       "    <tr style=\"text-align: right;\">\n",
       "      <th></th>\n",
       "      <th>x</th>\n",
       "      <th>y</th>\n",
       "    </tr>\n",
       "  </thead>\n",
       "  <tbody>\n",
       "    <tr>\n",
       "      <th>0</th>\n",
       "      <td>5</td>\n",
       "      <td>1.203014</td>\n",
       "    </tr>\n",
       "    <tr>\n",
       "      <th>1</th>\n",
       "      <td>10</td>\n",
       "      <td>2.696439</td>\n",
       "    </tr>\n",
       "    <tr>\n",
       "      <th>2</th>\n",
       "      <td>15</td>\n",
       "      <td>2.572250</td>\n",
       "    </tr>\n",
       "    <tr>\n",
       "      <th>3</th>\n",
       "      <td>20</td>\n",
       "      <td>3.696062</td>\n",
       "    </tr>\n",
       "    <tr>\n",
       "      <th>4</th>\n",
       "      <td>25</td>\n",
       "      <td>2.963923</td>\n",
       "    </tr>\n",
       "    <tr>\n",
       "      <th>5</th>\n",
       "      <td>30</td>\n",
       "      <td>3.576415</td>\n",
       "    </tr>\n",
       "    <tr>\n",
       "      <th>6</th>\n",
       "      <td>35</td>\n",
       "      <td>5.455621</td>\n",
       "    </tr>\n",
       "    <tr>\n",
       "      <th>7</th>\n",
       "      <td>40</td>\n",
       "      <td>4.572276</td>\n",
       "    </tr>\n",
       "    <tr>\n",
       "      <th>8</th>\n",
       "      <td>45</td>\n",
       "      <td>4.826511</td>\n",
       "    </tr>\n",
       "  </tbody>\n",
       "</table>\n",
       "</div>"
      ],
      "text/plain": [
       "    x         y\n",
       "0   5  1.203014\n",
       "1  10  2.696439\n",
       "2  15  2.572250\n",
       "3  20  3.696062\n",
       "4  25  2.963923\n",
       "5  30  3.576415\n",
       "6  35  5.455621\n",
       "7  40  4.572276\n",
       "8  45  4.826511"
      ]
     },
     "execution_count": 4,
     "metadata": {},
     "output_type": "execute_result"
    }
   ],
   "source": [
    "x=np.arange(5,50,5)\n",
    "y=np.array([],dtype=float)\n",
    "for v in x:\n",
    "    noise=2*random()\n",
    "    scale=10\n",
    "    \n",
    "    # try\n",
    "    # noise=0\n",
    "    # scale=1,-1,-10\n",
    "    y=np.append(y,(v+noise*10)/scale)\n",
    "df=pd.DataFrame(dict(x=x,y=y))\n",
    "df\n"
   ]
  },
  {
   "cell_type": "code",
   "execution_count": 5,
   "id": "f6c83d4f-dfb5-48ea-b4f2-fbe19243b878",
   "metadata": {},
   "outputs": [
    {
     "data": {
      "text/plain": [
       "<matplotlib.collections.PathCollection at 0x7fa014263c10>"
      ]
     },
     "execution_count": 5,
     "metadata": {},
     "output_type": "execute_result"
    },
    {
     "data": {
      "image/png": "[encoded data removed]",
      "text/plain": [
       "<Figure size 640x480 with 4 Axes>"
      ]
     },
     "metadata": {},
     "output_type": "display_data"
    }
   ],
   "source": [
    "fig, ax = plt.subplots(2, 2)\n",
    "fig.suptitle(\"subtitle\")\n",
    "ax1=ax[0,0]\n",
    "ax1.grid(True)\n",
    "ax1.set_title(\"orignal\")\n",
    "ax1.scatter(x,y)"
   ]
  },
  {
   "cell_type": "markdown",
   "id": "02f39467-dd2b-4a6a-867d-6ce06e8cdefb",
   "metadata": {},
   "source": [
    "### Center Data Points"
   ]
  },
  {
   "cell_type": "code",
   "execution_count": 6,
   "id": "cefc60a6-8cac-452e-b221-2827146052d0",
   "metadata": {},
   "outputs": [
    {
     "data": {
      "text/html": [
       "<div>\n",
       "<style scoped>\n",
       "    .dataframe tbody tr th:only-of-type {\n",
       "        vertical-align: middle;\n",
       "    }\n",
       "\n",
       "    .dataframe tbody tr th {\n",
       "        vertical-align: top;\n",
       "    }\n",
       "\n",
       "    .dataframe thead th {\n",
       "        text-align: right;\n",
       "    }\n",
       "</style>\n",
       "<table border=\"1\" class=\"dataframe\">\n",
       "  <thead>\n",
       "    <tr style=\"text-align: right;\">\n",
       "      <th></th>\n",
       "      <th>x</th>\n",
       "      <th>y</th>\n",
       "      <th>Xcentered</th>\n",
       "      <th>Ycentered</th>\n",
       "    </tr>\n",
       "  </thead>\n",
       "  <tbody>\n",
       "    <tr>\n",
       "      <th>0</th>\n",
       "      <td>5</td>\n",
       "      <td>1.203014</td>\n",
       "      <td>-20.0</td>\n",
       "      <td>-2.303932</td>\n",
       "    </tr>\n",
       "    <tr>\n",
       "      <th>1</th>\n",
       "      <td>10</td>\n",
       "      <td>2.696439</td>\n",
       "      <td>-15.0</td>\n",
       "      <td>-0.810506</td>\n",
       "    </tr>\n",
       "    <tr>\n",
       "      <th>2</th>\n",
       "      <td>15</td>\n",
       "      <td>2.572250</td>\n",
       "      <td>-10.0</td>\n",
       "      <td>-0.934696</td>\n",
       "    </tr>\n",
       "    <tr>\n",
       "      <th>3</th>\n",
       "      <td>20</td>\n",
       "      <td>3.696062</td>\n",
       "      <td>-5.0</td>\n",
       "      <td>0.189117</td>\n",
       "    </tr>\n",
       "    <tr>\n",
       "      <th>4</th>\n",
       "      <td>25</td>\n",
       "      <td>2.963923</td>\n",
       "      <td>0.0</td>\n",
       "      <td>-0.543023</td>\n",
       "    </tr>\n",
       "    <tr>\n",
       "      <th>5</th>\n",
       "      <td>30</td>\n",
       "      <td>3.576415</td>\n",
       "      <td>5.0</td>\n",
       "      <td>0.069470</td>\n",
       "    </tr>\n",
       "    <tr>\n",
       "      <th>6</th>\n",
       "      <td>35</td>\n",
       "      <td>5.455621</td>\n",
       "      <td>10.0</td>\n",
       "      <td>1.948675</td>\n",
       "    </tr>\n",
       "    <tr>\n",
       "      <th>7</th>\n",
       "      <td>40</td>\n",
       "      <td>4.572276</td>\n",
       "      <td>15.0</td>\n",
       "      <td>1.065330</td>\n",
       "    </tr>\n",
       "    <tr>\n",
       "      <th>8</th>\n",
       "      <td>45</td>\n",
       "      <td>4.826511</td>\n",
       "      <td>20.0</td>\n",
       "      <td>1.319565</td>\n",
       "    </tr>\n",
       "  </tbody>\n",
       "</table>\n",
       "</div>"
      ],
      "text/plain": [
       "    x         y  Xcentered  Ycentered\n",
       "0   5  1.203014      -20.0  -2.303932\n",
       "1  10  2.696439      -15.0  -0.810506\n",
       "2  15  2.572250      -10.0  -0.934696\n",
       "3  20  3.696062       -5.0   0.189117\n",
       "4  25  2.963923        0.0  -0.543023\n",
       "5  30  3.576415        5.0   0.069470\n",
       "6  35  5.455621       10.0   1.948675\n",
       "7  40  4.572276       15.0   1.065330\n",
       "8  45  4.826511       20.0   1.319565"
      ]
     },
     "execution_count": 6,
     "metadata": {},
     "output_type": "execute_result"
    }
   ],
   "source": [
    "x_mean=df.x.values.mean()\n",
    "y_mean=df.y.values.mean()\n",
    "xc=x-x_mean\n",
    "yc=y-y_mean\n",
    "\n",
    "df[\"Xcentered\"]=xc\n",
    "df[\"Ycentered\"]=yc\n",
    "df\n"
   ]
  },
  {
   "cell_type": "code",
   "execution_count": 7,
   "id": "6f8ed201-5e8f-47fa-9394-27f78a2fb82a",
   "metadata": {},
   "outputs": [
    {
     "data": {
      "image/png": "[encoded data removed]",
      "text/plain": [
       "<Figure size 640x480 with 4 Axes>"
      ]
     },
     "execution_count": 7,
     "metadata": {},
     "output_type": "execute_result"
    }
   ],
   "source": [
    "ax2=ax[0,1]\n",
    "ax2.grid(True)\n",
    "ax2.set_title(\"centred\")\n",
    "ax2.scatter(xc,yc)\n",
    "fig"
   ]
  },
  {
   "cell_type": "markdown",
   "id": "de7e16e4-24aa-43c6-b22f-396303f13fe4",
   "metadata": {},
   "source": [
    "$VAR(X)= \\sum \\frac{(xi – x)^2}{n}$\n",
    "\n",
    "$COV(X, Y) = \\sum\\frac{(x_i–x)(y_i–y)}{ n}$"
   ]
  },
  {
   "cell_type": "code",
   "execution_count": 8,
   "id": "943c8439-e828-4257-b39a-93b0aba71b70",
   "metadata": {},
   "outputs": [
    {
     "name": "stdout",
     "output_type": "stream",
     "text": [
      "vaiance of x = 791.6666666666666\n",
      "vaiance of y = 13.837298166241688\n",
      "\n",
      "covaiance of xy = 101.98953179630085\n"
     ]
    }
   ],
   "source": [
    "def variance(*args):\n",
    "    a=args[0]\n",
    "    if len(args)==1:\n",
    "        b=a\n",
    "    else:\n",
    "        b=args[1]\n",
    "    a=np.array(a)\n",
    "    b=np.array(b)\n",
    "    v=np.array([])\n",
    "    if a.shape!=b.shape:\n",
    "        print(\"size error\")\n",
    "        return 0\n",
    "    for i in range(0,len(a)):\n",
    "        \n",
    "        v=np.append(v,a[i]*b[i])\n",
    "    \n",
    "    # print(v)\n",
    "#     if len(args)==1:\n",
    "#         var=np.sum(v)/(len(a)-1)\n",
    "#     else:\n",
    "#         var=np.sum(v)/(len(a))\n",
    "        \n",
    "    var=np.sum(v)/(len(a))\n",
    "            \n",
    "    return var\n",
    "\n",
    "varX=variance(x)\n",
    "varY=variance(y)\n",
    "varXY=variance(x,y)\n",
    "covXY=varXY\n",
    "\n",
    "print(f\"vaiance of x = {varX}\")\n",
    "print(f\"vaiance of y = {varY}\\n\")\n",
    "\n",
    "print(f\"covaiance of xy = {covXY}\")"
   ]
  },
  {
   "cell_type": "markdown",
   "id": "15a67f38-1164-441f-9404-0be6b30bbc22",
   "metadata": {},
   "source": [
    "### Standard Deviation"
   ]
  },
  {
   "cell_type": "code",
   "execution_count": 9,
   "id": "9590d197-c176-4a27-9f6d-faf5064a01fa",
   "metadata": {},
   "outputs": [],
   "source": [
    "sdX=varX**(1/2)\n",
    "sdY=varY**(1/2)"
   ]
  },
  {
   "cell_type": "markdown",
   "id": "e2fcd1aa-e0dc-4a47-a732-8a794d65a50a",
   "metadata": {},
   "source": [
    "### normalized and centered"
   ]
  },
  {
   "cell_type": "code",
   "execution_count": 10,
   "id": "090b45d5-f8b2-4fc1-8993-b316dc0c1a5b",
   "metadata": {},
   "outputs": [],
   "source": [
    "xcn=xc/sdX\n",
    "ycn=yc/sdY"
   ]
  },
  {
   "cell_type": "code",
   "execution_count": 11,
   "id": "39c66751-d30e-49c9-9a20-3fb664e1e39f",
   "metadata": {},
   "outputs": [
    {
     "data": {
      "image/png": "[encoded data removed]",
      "text/plain": [
       "<Figure size 640x480 with 4 Axes>"
      ]
     },
     "execution_count": 11,
     "metadata": {},
     "output_type": "execute_result"
    }
   ],
   "source": [
    "ax3=ax[1,0]\n",
    "ax3.grid(True)\n",
    "ax3.set_title(\"normalized\")\n",
    "ax3.scatter(xcn,ycn)\n",
    "fig"
   ]
  },
  {
   "cell_type": "markdown",
   "id": "4743ece6-eece-4957-9992-21e3571afd19",
   "metadata": {},
   "source": [
    "### Correlation\n",
    "\n",
    "$corr(X,Y)=\\frac{cov(X,Y)}{\\sqrt{var(X)*var(Y)}}$"
   ]
  },
  {
   "cell_type": "code",
   "execution_count": 13,
   "id": "83439aa8-b9d6-4a62-8222-b19bd87ec53b",
   "metadata": {},
   "outputs": [
    {
     "name": "stdout",
     "output_type": "stream",
     "text": [
      "correlation of xy = 0.9744482249614985\n"
     ]
    }
   ],
   "source": [
    "def correlation(*args):\n",
    "    if len(args)!=2:\n",
    "        print('err')\n",
    "        return\n",
    "    a=args[0]\n",
    "    b=args[1]\n",
    "    varx=variance(a)\n",
    "    vary=variance(b)\n",
    "    cov=variance(a,b)\n",
    "    corr=cov/((varx*vary)**(1/2))\n",
    "    return corr\n",
    "\n",
    "corXY=correlation(x,y)\n",
    "print(f\"correlation of xy = {corXY}\")"
   ]
  },
  {
   "attachments": {},
   "cell_type": "markdown",
   "id": "5b7637ae",
   "metadata": {},
   "source": [
    "### The value of correletion lies in range -1 to 1, however covariance is unbounded"
   ]
  },
  {
   "cell_type": "code",
   "execution_count": null,
   "id": "1ec7e6c1-970b-477e-b9c4-2bc56d2caf2f",
   "metadata": {},
   "outputs": [],
   "source": []
  }
 ],
 "metadata": {
  "kernelspec": {
   "display_name": "Python 3",
   "language": "python",
   "name": "python3"
  },
  "language_info": {
   "codemirror_mode": {
    "name": "ipython",
    "version": 3
   },
   "file_extension": ".py",
   "mimetype": "text/x-python",
   "name": "python",
   "nbconvert_exporter": "python",
   "pygments_lexer": "ipython3",
   "version": "3.8.10"
  },
  "vscode": {
   "interpreter": {
    "hash": "916dbcbb3f70747c44a77c7bcd40155683ae19c65e1c03b4aa3499c5328201f1"
   }
  }
 },
 "nbformat": 4,
 "nbformat_minor": 5
}

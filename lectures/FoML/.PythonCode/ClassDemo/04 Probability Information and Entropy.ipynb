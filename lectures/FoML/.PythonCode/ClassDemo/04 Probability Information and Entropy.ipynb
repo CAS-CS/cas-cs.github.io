{
 "cells": [
  {
   "cell_type": "code",
   "execution_count": 1,
   "metadata": {},
   "outputs": [],
   "source": [
    "import numpy as np\n",
    "import pandas as pd\n",
    "import matplotlib \n",
    "import matplotlib as mpl\n",
    "import matplotlib.pyplot as plt\n",
    "import os,glob,shutil,gzip"
   ]
  },
  {
   "cell_type": "code",
   "execution_count": 63,
   "metadata": {},
   "outputs": [],
   "source": [
    "def P(*args):\n",
    "    # print(args,len(args))\n",
    "    s=np.array(args[0])\n",
    "    \n",
    "    prob=np.array([])\n",
    "    if len(args)==1:\n",
    "        u=set(s)\n",
    "        # print(u)\n",
    "    else: \n",
    "        u=np.array([args[1]])\n",
    "    # print(s)\n",
    "    # print(u)\n",
    "    for i in u:\n",
    "        p=np.count_nonzero(s==i)/len(s)\n",
    "        prob=np.append(prob,p)\n",
    "        # print(p)\n",
    "    return prob"
   ]
  },
  {
   "cell_type": "code",
   "execution_count": 95,
   "metadata": {},
   "outputs": [],
   "source": [
    "def I(*args):\n",
    "    p=P(*args)\n",
    "    if p==0:\n",
    "        information=np.nan\n",
    "    else:\n",
    "        information=-np.log2(p)\n",
    "    return information"
   ]
  },
  {
   "cell_type": "code",
   "execution_count": 102,
   "metadata": {},
   "outputs": [],
   "source": [
    "def H(*args):\n",
    "    p=P(*args)\n",
    "    i=I(*args)\n",
    "    if (i==0) or (p==0):\n",
    "        h=0\n",
    "    else:\n",
    "        h=p*i\n",
    "    return h"
   ]
  },
  {
   "cell_type": "code",
   "execution_count": 106,
   "metadata": {},
   "outputs": [
    {
     "data": {
      "text/plain": [
       "(array([1, 2]), array([0.5]), array([1.]), array([1.]))"
      ]
     },
     "execution_count": 106,
     "metadata": {},
     "output_type": "execute_result"
    }
   ],
   "source": [
    "S=np.arange(2)+1\n",
    "# S=np.array([0,0])\n",
    "S,P(S,1), I(S,1), H(S,2)+H(S,1)"
   ]
  },
  {
   "cell_type": "code",
   "execution_count": null,
   "metadata": {},
   "outputs": [],
   "source": []
  },
  {
   "cell_type": "code",
   "execution_count": null,
   "metadata": {},
   "outputs": [],
   "source": []
  }
 ],
 "metadata": {
  "kernelspec": {
   "display_name": "Python 3 (ipykernel)",
   "language": "python",
   "name": "python3"
  },
  "language_info": {
   "codemirror_mode": {
    "name": "ipython",
    "version": 3
   },
   "file_extension": ".py",
   "mimetype": "text/x-python",
   "name": "python",
   "nbconvert_exporter": "python",
   "pygments_lexer": "ipython3",
   "version": "3.8.10 (default, Nov 14 2022, 12:59:47) \n[GCC 9.4.0]"
  },
  "vscode": {
   "interpreter": {
    "hash": "916dbcbb3f70747c44a77c7bcd40155683ae19c65e1c03b4aa3499c5328201f1"
   }
  }
 },
 "nbformat": 4,
 "nbformat_minor": 4
}

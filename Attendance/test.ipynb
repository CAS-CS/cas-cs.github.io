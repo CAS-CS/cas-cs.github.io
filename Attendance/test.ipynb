{
 "cells": [
  {
   "cell_type": "code",
   "execution_count": 2,
   "metadata": {},
   "outputs": [],
   "source": [
    "import numpy as np\n",
    "import pandas as pd\n",
    "import os, glob, shutil, gzip\n",
    "import flet as ft\n",
    "from datetime import datetime\n",
    "import openpyxl as opl\n",
    "from openpyxl import Workbook,load_workbook\n",
    "from openpyxl.utils.cell import range_boundaries, get_column_letter\n",
    "from openpyxl.styles import Font,Border,Color,Alignment, Side,PatternFill\n",
    "BorderSide=Side(style='thin',color='FF000000')\n",
    "BorderAll=Border(left=BorderSide,right=BorderSide,top=BorderSide,bottom=BorderSide)\n",
    "DateFont=Font(name='Calibri',size=10,bold=False,italic=False,underline='none',strike=False,color='FF000000')\n",
    "DateAlignment=Alignment(horizontal='center',vertical='center',text_rotation=90,wrap_text=False,shrink_to_fit=False,indent=0)\n"
   ]
  },
  {
   "cell_type": "code",
   "execution_count": 3,
   "metadata": {},
   "outputs": [],
   "source": [
    "filename=\"Attendance.xlsx\"\n",
    "today = datetime.today().strftime('%Y-%m-%d')\n",
    "\n",
    "wb = load_workbook(filename)\n",
    "\n",
    "sheetnames = wb.sheetnames\n",
    "\n",
    "\n",
    "selectedSheet=wb[sheetnames[0]]\n",
    "# selectedSheet.title=\"Attendance\"\n",
    "wb.save(filename)\n",
    "# os.system(f'xdg-open ./{filename}')\n"
   ]
  },
  {
   "cell_type": "code",
   "execution_count": 4,
   "metadata": {},
   "outputs": [
    {
     "name": "stdout",
     "output_type": "stream",
     "text": [
      "1 6 1 22\n",
      "5\n",
      "['ABHISHEK VERMA', 'AKANKSHA YADAV', 'AMAN UPADHYAY', 'ANIL KUMAR', 'ANKITA SHARMA', 'ANUBHUTI RAO', 'KULDEEP PATHAK', 'MOHAMMAD SHAHARYAR ANSARI', 'NAIMISHA AWASTHI', 'PRASHANT KUMAR MISHRA', 'RAHUL VERMA', 'RAJ KUMAR KUSHWAHA', 'SHIVAM RAJPUT', 'SHRUTI SINGH', 'SHUBHANSHU GUPTA', 'TANYA SINGH', 'VAISHNAVI YADAV', 'VIKAS YADAV', 'VIVEK MISHRA']\n"
     ]
    }
   ],
   "source": [
    "cellRange=selectedSheet.dimensions\n",
    "cellRange\n",
    "R=range_boundaries(cellRange)\n",
    "startCol=R[0]\n",
    "endCol=R[2]\n",
    "startRow=R[1]\n",
    "endRow=R[3]\n",
    "\n",
    "print(startCol,endCol,startRow,endRow)\n",
    "for col in range(startCol,endCol):\n",
    "    for row in range(startRow,endRow):\n",
    "        # print(selectedSheet.cell(row=row,column=col).value)\n",
    "        if selectedSheet.cell(row=row,column=col).value==\"Name\":\n",
    "            HeaderRow=row\n",
    "            NameCol=col\n",
    "            break\n",
    "print(NameCol)\n",
    "\n",
    "Names=[]\n",
    "for row in range(startRow+1,endRow+1):\n",
    "    testVal=selectedSheet.cell(row=row,column=NameCol).value\n",
    "    if testVal.lower().__contains__(\"class\") | testVal.lower().__contains__(\"total\") | testVal.lower().__contains__(\"none\"):\n",
    "        break\n",
    "    Names.append(testVal)\n",
    "\n",
    "print(Names)"
   ]
  },
  {
   "cell_type": "code",
   "execution_count": 5,
   "metadata": {},
   "outputs": [
    {
     "data": {
      "text/plain": [
       "range"
      ]
     },
     "execution_count": 5,
     "metadata": {},
     "output_type": "execute_result"
    }
   ],
   "source": [
    "range"
   ]
  },
  {
   "cell_type": "code",
   "execution_count": 6,
   "metadata": {},
   "outputs": [
    {
     "data": {
      "text/plain": [
       "0"
      ]
     },
     "execution_count": 6,
     "metadata": {},
     "output_type": "execute_result"
    }
   ],
   "source": [
    "today\n",
    "InsertColumn=[]\n",
    "newCol=endCol+1\n",
    "selectedSheet.column_dimensions[get_column_letter(newCol)].width=4\n",
    "selectedSheet.row_dimensions[HeaderRow].height=90\n",
    "dateCell=selectedSheet.cell(row=HeaderRow,column=newCol)\n",
    "dateCell.value=today\n",
    "dateCell.font=DateFont\n",
    "dateCell.alignment=DateAlignment\n",
    "dateCell.border=BorderAll\n",
    "for i,name in enumerate(Names):\n",
    "    currentCell=selectedSheet.cell(row=HeaderRow+1+i,column=newCol)\n",
    "    currentCell.value=name\n",
    "    currentCell.border=BorderAll\n",
    "\n",
    "TotalPresentRow=HeaderRow+len(Names)+1\n",
    "TotalPresentCell=selectedSheet.cell(row=TotalPresentRow,column=newCol)\n",
    "TotalPresentCell.value=f\"=sum({get_column_letter(newCol)}{HeaderRow+1}:{get_column_letter(newCol)}{HeaderRow+len(Names)})\"\n",
    "\n",
    "endCol+=1\n",
    "wb.save(filename)\n",
    "os.system(f'xdg-open ./{filename}')\n",
    "    "
   ]
  },
  {
   "cell_type": "code",
   "execution_count": 29,
   "metadata": {},
   "outputs": [],
   "source": [
    "def getHeaders(*args):\n",
    "    print('getHeaders',args)\n",
    "    fileName=args[0]\n",
    "\n",
    "    wb= load_workbook(fileName)\n",
    "    if len(args)>1:\n",
    "        sheetName=args[1]\n",
    "    else:\n",
    "        sheetName=wb.sheetnames[0]\n",
    "        \n",
    "    \n",
    "    ws=wb[sheetName]\n",
    "\n",
    "    cellRange=ws.dimensions\n",
    "    cellRange\n",
    "    R=range_boundaries(cellRange)\n",
    "    startCol=R[0]\n",
    "    endCol=R[2]\n",
    "    startRow=R[1]\n",
    "    endRow=R[3]\n",
    "\n",
    "    # print(startCol,endCol,startRow,endRow)\n",
    "    for col in range(startCol,endCol):\n",
    "        for row in range(startRow,endRow):\n",
    "            # print(selectedSheet.cell(row=row,column=col).value)\n",
    "            if ws.cell(row=row,column=col).value==\"Name\":\n",
    "                HeaderRow=row\n",
    "                NameCol=col\n",
    "                break\n",
    "\n",
    "    Names=[]\n",
    "    for row in range(startRow+1,endRow+1):\n",
    "        testVal=ws.cell(row=row,column=NameCol).value\n",
    "        if testVal.lower().__contains__(\"class\") | testVal.lower().__contains__(\"total\") | testVal.lower().__contains__(\"none\"):\n",
    "            break\n",
    "        Names.append(testVal)\n",
    "    print(f'returning,Names={Names},HeaderRow={HeaderRow},NameCol,endCol')\n",
    "    wb.close()\n",
    "    return Names,HeaderRow,NameCol,endCol\n",
    "\n",
    "def appendColumn(*args):\n",
    "    # appendColumn(fileName,sheetName,Header):\n",
    "    print(f\"appendCOlumn\",args)\n",
    "    fileName=args[0]\n",
    "\n",
    "    wb=load_workbook(fileName)\n",
    "    if len(args)>2:\n",
    "        sheetName=args[1]\n",
    "        data=args[len(args)-1]\n",
    "    else:\n",
    "        sheetName=wb.sheetnames[0]\n",
    "        data=args[len(args)-1]\n",
    "    dataCol=data\n",
    "    ws=wb[sheetName]\n",
    "    print(sheetName)\n",
    "\n",
    "\n",
    "    Names,HeaderRow,NameCol,endCol=getHeaders(fileName,sheetName)\n",
    "    InsertColumn=[]\n",
    "    newCol=endCol+1\n",
    "    ws.column_dimensions[get_column_letter(newCol)].width=4\n",
    "    ws.row_dimensions[HeaderRow].height=90\n",
    "\n",
    "    for i,val in enumerate(dataCol):\n",
    "        print(i,val)\n",
    "        currentCell=ws.cell(row=HeaderRow+i,column=newCol)\n",
    "        if i==0:\n",
    "            currentCell.font=DateFont\n",
    "            currentCell.alignment=DateAlignment\n",
    "        if i==len(dataCol)-1:\n",
    "            currentCell.alignment=DateAlignment\n",
    "            ws.row_dimensions[HeaderRow+i].height=250\n",
    "        currentCell.value=val\n",
    "        currentCell.border=BorderAll\n",
    "\n",
    "    wb.save(filename)\n",
    "\n",
    "\n",
    "\n",
    "\n",
    "\n",
    "\n",
    "##calling save function\n",
    "# as a dataVector with [header/data , attendance/marks,remark]\n",
    "dataVector=[]\n",
    "dataVector.extend(Header)\n",
    "dataVector.extend(InputArray)\n",
    "dataVector.extend(Remark)\n",
    "appendColumn(filename,dataVector)\n",
    "# os.system(f'xdg-open ./{filename}')"
   ]
  },
  {
   "cell_type": "code",
   "execution_count": 25,
   "metadata": {},
   "outputs": [],
   "source": [
    "def getHeaders(*args):\n",
    "    print('getHeaders',args)\n",
    "    fileName=args[0]\n",
    "\n",
    "    wb= load_workbook(fileName)\n",
    "    if len(args)>1:\n",
    "        sheetName=args[1]\n",
    "    else:\n",
    "        sheetName=wb.sheetnames[0]\n",
    "        \n",
    "    \n",
    "    ws=wb[sheetName]\n",
    "\n",
    "    cellRange=ws.dimensions\n",
    "    cellRange\n",
    "    R=range_boundaries(cellRange)\n",
    "    startCol=R[0]\n",
    "    endCol=R[2]\n",
    "    startRow=R[1]\n",
    "    endRow=R[3]\n",
    "\n",
    "    # print(startCol,endCol,startRow,endRow)\n",
    "    for col in range(startCol,endCol):\n",
    "        for row in range(startRow,endRow):\n",
    "            # print(selectedSheet.cell(row=row,column=col).value)\n",
    "            if ws.cell(row=row,column=col).value==\"Name\":\n",
    "                HeaderRow=row\n",
    "                NameCol=col\n",
    "                break\n",
    "\n",
    "    Names=[]\n",
    "    for row in range(startRow+1,endRow+1):\n",
    "        testVal=ws.cell(row=row,column=NameCol).value\n",
    "        if testVal.lower().__contains__(\"class\") | testVal.lower().__contains__(\"total\") | testVal.lower().__contains__(\"none\"):\n",
    "            break\n",
    "        Names.append(testVal)\n",
    "    print(f'returning,Names={Names},HeaderRow={HeaderRow},NameCol,endCol')\n",
    "    wb.close()\n",
    "    return Names,HeaderRow,NameCol,endCol"
   ]
  },
  {
   "cell_type": "code",
   "execution_count": 30,
   "metadata": {},
   "outputs": [
    {
     "name": "stdout",
     "output_type": "stream",
     "text": [
      "appendCOlumn ('Attendance.xlsx', ['2023-02-08', 0, 1, 2, 3, 4, 5, 6, 7, 8, 9, 10, 11, 12, 13, 14, 15, 16, 17, 18, 'remark'])\n",
      "Sheet1\n",
      "getHeaders ('Attendance.xlsx', 'Sheet1')\n",
      "returning,Names=['ABHISHEK VERMA', 'AKANKSHA YADAV', 'AMAN UPADHYAY', 'ANIL KUMAR', 'ANKITA SHARMA', 'ANUBHUTI RAO', 'KULDEEP PATHAK', 'MOHAMMAD SHAHARYAR ANSARI', 'NAIMISHA AWASTHI', 'PRASHANT KUMAR MISHRA', 'RAHUL VERMA', 'RAJ KUMAR KUSHWAHA', 'SHIVAM RAJPUT', 'SHRUTI SINGH', 'SHUBHANSHU GUPTA', 'TANYA SINGH', 'VAISHNAVI YADAV', 'VIKAS YADAV', 'VIVEK MISHRA'],HeaderRow=1,NameCol,endCol\n",
      "0 2023-02-08\n",
      "1 0\n",
      "2 1\n",
      "3 2\n",
      "4 3\n",
      "5 4\n",
      "6 5\n",
      "7 6\n",
      "8 7\n",
      "9 8\n",
      "10 9\n",
      "11 10\n",
      "12 11\n",
      "13 12\n",
      "14 13\n",
      "15 14\n",
      "16 15\n",
      "17 16\n",
      "18 17\n",
      "19 18\n",
      "20 remark\n"
     ]
    },
    {
     "data": {
      "text/plain": [
       "0"
      ]
     },
     "execution_count": 30,
     "metadata": {},
     "output_type": "execute_result"
    }
   ],
   "source": [
    "dataVector=[today]\n",
    "dataVector.extend(range(0,len(Names)))\n",
    "remark=[\"remark\"]\n",
    "dataVector.extend(remark)\n",
    "appendColumn(filename,dataVector)\n",
    "# os.system(f'xdg-open ./{filename}')"
   ]
  },
  {
   "cell_type": "code",
   "execution_count": null,
   "metadata": {},
   "outputs": [],
   "source": []
  }
 ],
 "metadata": {
  "kernelspec": {
   "display_name": "Python 3",
   "language": "python",
   "name": "python3"
  },
  "language_info": {
   "codemirror_mode": {
    "name": "ipython",
    "version": 3
   },
   "file_extension": ".py",
   "mimetype": "text/x-python",
   "name": "python",
   "nbconvert_exporter": "python",
   "pygments_lexer": "ipython3",
   "version": "3.8.10"
  },
  "orig_nbformat": 4,
  "vscode": {
   "interpreter": {
    "hash": "916dbcbb3f70747c44a77c7bcd40155683ae19c65e1c03b4aa3499c5328201f1"
   }
  }
 },
 "nbformat": 4,
 "nbformat_minor": 2
}

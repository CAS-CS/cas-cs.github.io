{
 "cells": [
  {
   "cell_type": "markdown",
   "metadata": {},
   "source": [
    "$E=mc^2$\n",
    "\n",
    "$\\frac{a}{d_\\alpha^\\beta}$"
   ]
  },
  {
   "cell_type": "markdown",
   "metadata": {},
   "source": [
    "# Heading 1\n",
    "## h2\n",
    "### h3\n",
    "\n",
    "###### h6\n",
    "\n",
    "*italic*\n",
    "**bold**\n",
    "***bold italic***\n",
    "\n",
    "[URL LABEL](https://cas.res.in)"
   ]
  },
  {
   "cell_type": "markdown",
   "metadata": {},
   "source": [
    "![imageurl](https://jupyter.org/assets/homepage/jupyterpreview.webp)"
   ]
  },
  {
   "cell_type": "code",
   "execution_count": 3,
   "metadata": {},
   "outputs": [
    {
     "name": "stdout",
     "output_type": "stream",
     "text": [
      "1\n"
     ]
    }
   ],
   "source": [
    "# this is our txt comment\n",
    "\n",
    "\n",
    "a=1\n",
    "b=2\n",
    "print(a)"
   ]
  },
  {
   "cell_type": "code",
   "execution_count": null,
   "metadata": {},
   "outputs": [],
   "source": []
  },
  {
   "cell_type": "markdown",
   "metadata": {},
   "source": []
  }
 ],
 "metadata": {
  "kernelspec": {
   "display_name": "Python 3.11.0 64-bit",
   "language": "python",
   "name": "python3"
  },
  "language_info": {
   "codemirror_mode": {
    "name": "ipython",
    "version": 3
   },
   "file_extension": ".py",
   "mimetype": "text/x-python",
   "name": "python",
   "nbconvert_exporter": "python",
   "pygments_lexer": "ipython3",
   "version": "3.11.0"
  },
  "orig_nbformat": 4,
  "vscode": {
   "interpreter": {
    "hash": "28204c23495da4bd86019a0ef2a7cb80b64f826753122ee09672fd37d42f8865"
   }
  }
 },
 "nbformat": 4,
 "nbformat_minor": 2
}

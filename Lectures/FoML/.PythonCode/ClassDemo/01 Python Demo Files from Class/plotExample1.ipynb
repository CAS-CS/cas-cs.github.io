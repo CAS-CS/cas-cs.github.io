{
 "cells": [
  {
   "cell_type": "markdown",
   "metadata": {},
   "source": [
    "## We are learning matplotlib\n",
    "\n",
    "inline code` numpy`\n",
    "\n",
    "```bash\n",
    "pip install numpy\n",
    "pip install matplotlib\n",
    "```\n",
    "\n",
    "```python\n",
    "\n",
    "```"
   ]
  },
  {
   "cell_type": "code",
   "execution_count": null,
   "metadata": {},
   "outputs": [],
   "source": []
  }
 ],
 "metadata": {
  "kernelspec": {
   "display_name": "Python 3.11.0 64-bit",
   "language": "python",
   "name": "python3"
  },
  "language_info": {
   "name": "python",
   "version": "3.11.0"
  },
  "orig_nbformat": 4,
  "vscode": {
   "interpreter": {
    "hash": "28204c23495da4bd86019a0ef2a7cb80b64f826753122ee09672fd37d42f8865"
   }
  }
 },
 "nbformat": 4,
 "nbformat_minor": 2
}

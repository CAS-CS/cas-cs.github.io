{
 "cells": [
  {
   "cell_type": "markdown",
   "id": "d6951187-c132-4f65-8147-a8d3880c5a26",
   "metadata": {},
   "source": [
    "# Box, Gaussion and other Linear filters\n"
   ]
  },
  {
   "cell_type": "code",
   "execution_count": 1,
   "id": "f3998c3f-5599-4e3f-8b4e-fe2a4f7e01e3",
   "metadata": {},
   "outputs": [],
   "source": [
    "import numpy as np\n",
    "import matplotlib.pyplot as plt\n",
    "from matplotlib.pyplot import imshow\n",
    "from matplotlib.image import imread, imsave\n",
    "# from skimage.io import imread, imshow\n",
    "from skimage.color import rgb2hsv, rgb2gray, rgb2yuv\n",
    "from skimage import color, exposure, transform\n",
    "from skimage.exposure import equalize_hist\n",
    "import glob\n",
    "\n",
    "\n",
    "\n"
   ]
  },
  {
   "cell_type": "code",
   "execution_count": 11,
   "id": "f32f29ec-f677-4059-baeb-0bee7e085b70",
   "metadata": {},
   "outputs": [],
   "source": [
    "def img2fft(img):\n",
    "    fftimg=np.fft.fftshift(np.fft.fft2(img))\n",
    "    abs_fftimg=np.log(np.abs(fftimg+1))\n",
    "    return abs_fftimg"
   ]
  },
  {
   "cell_type": "code",
   "execution_count": 9,
   "id": "ba3e7f9d-2bb3-4960-a5f9-765d1695b8b2",
   "metadata": {},
   "outputs": [
    {
     "data": {
      "text/plain": [
       "array([[1., 1., 1.],\n",
       "       [1., 1., 1.],\n",
       "       [1., 1., 1.]])"
      ]
     },
     "execution_count": 9,
     "metadata": {},
     "output_type": "execute_result"
    }
   ],
   "source": [
    "box_kernal=np.ones(3**2,dtype=unit8).reshape(3,3)\n",
    "box_kernal"
   ]
  },
  {
   "cell_type": "code",
   "execution_count": null,
   "id": "ec715c71-5e9d-49a2-9c12-535e07375ee5",
   "metadata": {},
   "outputs": [],
   "source": [
    "img2fft(box_kernal)"
   ]
  },
  {
   "cell_type": "code",
   "execution_count": 10,
   "id": "11b05073-b581-46c8-8698-6b073ea73289",
   "metadata": {},
   "outputs": [
    {
     "data": {
      "text/plain": [
       "<matplotlib.image.AxesImage at 0x7fcdeb2b7e80>"
      ]
     },
     "execution_count": 10,
     "metadata": {},
     "output_type": "execute_result"
    },
    {
     "data": {
      "image/png": "[encoded data removed]",
      "text/plain": [
       "<Figure size 640x480 with 1 Axes>"
      ]
     },
     "metadata": {},
     "output_type": "display_data"
    }
   ],
   "source": [
    "imshow(box_kernal,cmap=\"gray\")"
   ]
  },
  {
   "cell_type": "code",
   "execution_count": null,
   "id": "e769c6fd-892e-4fa7-b785-b259ca86ba56",
   "metadata": {},
   "outputs": [],
   "source": []
  }
 ],
 "metadata": {
  "kernelspec": {
   "display_name": "Python 3 (ipykernel)",
   "language": "python",
   "name": "python3"
  },
  "language_info": {
   "codemirror_mode": {
    "name": "ipython",
    "version": 3
   },
   "file_extension": ".py",
   "mimetype": "text/x-python",
   "name": "python",
   "nbconvert_exporter": "python",
   "pygments_lexer": "ipython3",
   "version": "3.8.10"
  }
 },
 "nbformat": 4,
 "nbformat_minor": 5
}

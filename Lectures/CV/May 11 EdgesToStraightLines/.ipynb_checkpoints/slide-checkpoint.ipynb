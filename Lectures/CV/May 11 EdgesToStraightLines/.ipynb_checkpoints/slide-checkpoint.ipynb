{
 "cells": [
  {
   "cell_type": "markdown",
   "metadata": {},
   "source": [
    "\n",
    "# Load images and preview with their fourier transformed image"
   ]
  },
  {
   "cell_type": "code",
   "execution_count": 1,
   "metadata": {},
   "outputs": [],
   "source": [
    "import numpy as np\n",
    "import matplotlib.pyplot as plt\n",
    "from matplotlib.pyplot import imshow\n",
    "from matplotlib.image import imread, imsave\n",
    "# from skimage.io import imread, imshow\n",
    "from skimage.color import rgb2hsv, rgb2gray, rgb2yuv\n",
    "from skimage import color, exposure, transform\n",
    "from skimage.exposure import equalize_hist\n",
    "import glob\n",
    "\n",
    "\n",
    "\n"
   ]
  },
  {
   "cell_type": "markdown",
   "metadata": {},
   "source": [
    "## Canny Edge Dector\n",
    "![](./01.png)\n",
    "\n",
    "## Canny Edges to Straight Lines \n",
    "![](./02.png)"
   ]
  },
  {
   "cell_type": "markdown",
   "metadata": {},
   "source": [
    "# Laplacian of Gaussian: LoG\n",
    "![](./03.png)\n"
   ]
  },
  {
   "cell_type": "markdown",
   "metadata": {},
   "source": [
    "# LoG as Blob Detector\n",
    "![](./04.png)\n",
    "\n",
    "it can detect circular shapes, like in pattern matching, \n",
    "\n",
    "> usually pattern matching is done with autocorrelation, howver, if filter/kernal is symmetric convolution is equivalent to correlation"
   ]
  },
  {
   "cell_type": "markdown",
   "metadata": {},
   "source": [
    "# Blob to Corner detection\n",
    "Corners are crucial positions in an image\n",
    "\n",
    "### Computation of autocorrelation\n",
    "\n",
    "![](./05a.png)\n",
    "\n",
    "![](./05b.png)\n",
    "\n",
    "![](./05c.png)\n",
    "\n",
    "![](./06.png)"
   ]
  },
  {
   "cell_type": "code",
   "execution_count": null,
   "metadata": {},
   "outputs": [],
   "source": []
  }
 ],
 "metadata": {
  "kernelspec": {
   "display_name": "Python 3 (ipykernel)",
   "language": "python",
   "name": "python3"
  },
  "language_info": {
   "codemirror_mode": {
    "name": "ipython",
    "version": 3
   },
   "file_extension": ".py",
   "mimetype": "text/x-python",
   "name": "python",
   "nbconvert_exporter": "python",
   "pygments_lexer": "ipython3",
   "version": "3.8.10"
  }
 },
 "nbformat": 4,
 "nbformat_minor": 4
}

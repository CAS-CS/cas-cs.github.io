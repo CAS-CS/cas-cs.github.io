{
 "cells": [
  {
   "cell_type": "markdown",
   "id": "2e001233-853d-4eeb-a98a-92bbe12fb223",
   "metadata": {},
   "source": [
    "# Edge Detection"
   ]
  },
  {
   "cell_type": "code",
   "execution_count": 1,
   "id": "fa9b96a2-c58e-412a-8953-9203b2620454",
   "metadata": {},
   "outputs": [],
   "source": [
    "import numpy as np\n",
    "import matplotlib.pyplot as plt\n",
    "from matplotlib.pyplot import imshow\n",
    "from matplotlib.image import imread, imsave\n",
    "# from skimage.io import imread, imshow\n",
    "from skimage.color import rgb2hsv, rgb2gray, rgb2yuv\n",
    "from skimage import color, exposure, transform\n",
    "from skimage.exposure import equalize_hist\n",
    "import glob\n",
    "\n",
    "\n",
    "\n"
   ]
  },
  {
   "cell_type": "code",
   "execution_count": 2,
   "id": "9d9debc9",
   "metadata": {},
   "outputs": [],
   "source": [
    "def dummyFunction():\n",
    "    print(\"Hello World\")\n",
    "    return 0"
   ]
  },
  {
   "cell_type": "code",
   "execution_count": 3,
   "id": "7c5a96a2-267f-4740-bdee-f5fad735be74",
   "metadata": {},
   "outputs": [
    {
     "data": {
      "text/plain": [
       "(array([[ 0,  1],\n",
       "        [-1,  0]]),\n",
       " array([[ 0, -1],\n",
       "        [ 1,  0]]))"
      ]
     },
     "execution_count": 3,
     "metadata": {},
     "output_type": "execute_result"
    }
   ],
   "source": [
    "# to find difference in diagonal element\n",
    "# roberts\n",
    "roberts_filter=np.array([0,1,-1,0]).reshape(2,2)\n",
    "roberts_filter,roberts_filter.T"
   ]
  }
 ],
 "metadata": {
  "kernelspec": {
   "display_name": "Python 3 (ipykernel)",
   "language": "python",
   "name": "python3"
  },
  "language_info": {
   "codemirror_mode": {
    "name": "ipython",
    "version": 3
   },
   "file_extension": ".py",
   "mimetype": "text/x-python",
   "name": "python",
   "nbconvert_exporter": "python",
   "pygments_lexer": "ipython3",
   "version": "3.8.10"
  }
 },
 "nbformat": 4,
 "nbformat_minor": 5
}
